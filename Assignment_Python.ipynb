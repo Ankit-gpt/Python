{
  "nbformat": 4,
  "nbformat_minor": 0,
  "metadata": {
    "colab": {
      "provenance": []
    },
    "kernelspec": {
      "name": "python3",
      "display_name": "Python 3"
    },
    "language_info": {
      "name": "python"
    }
  },
  "cells": [
    {
      "cell_type": "markdown",
      "source": [
        "# Assignment- Python"
      ],
      "metadata": {
        "id": "21KU9ybEiBsS"
      }
    },
    {
      "cell_type": "markdown",
      "source": [
        "**Theory Questions**"
      ],
      "metadata": {
        "id": "9y0-9qrYt67h"
      }
    },
    {
      "cell_type": "code",
      "source": [],
      "metadata": {
        "id": "gY2hMuxAnZ-j"
      },
      "execution_count": null,
      "outputs": []
    },
    {
      "cell_type": "markdown",
      "source": [
        "1. What is Python, and why is it popular?\n",
        "- Python is a general-purpose programming language that is popular because it is easy to learn, versatile, and has a large community of users. It is used in many industries, including web development, IoT, and desktop GUI programming.\n",
        "\n",
        " Python is popular due to-\n",
        " - Easy to learn: Python is considered beginner-friendly and has many tools to help beginners learn.\n",
        " - Versatile: Python is used in many industries, including web development, IoT, and desktop GUI programming.\n",
        " - Large community: Python has a large community of users and many resources available.\n",
        " - Efficient, reliable, and fast: Python is considered efficient, reliable, and fast compared to other coding languages.\n",
        " - Libraries and frameworks: Python has many libraries and frameworks that save time and effort during development.\n",
        " - Cross-platform compatibility: Python has cross-platform compatibility with library-like tools.\n",
        "\n",
        "2. What is an interpreter in Python?\n",
        " - A Python interpreter is a program that reads and executes Python code. Unlike compiled languages like C or C++, which are converted into machine code before execution, Python is an interpreted language. This means that the interpreter reads Python code, analyzes it, and executes it directly.\n",
        "\n",
        "3.  What are pre-defined keywords in Python?\n",
        " -  A keyword refers to a predefined word that python reserves for working programs that have a specific meaning, You can’t use a keyword anywhere else.\n",
        " - A keyword can specify the type of entity.\n",
        " - All the keywords except ‘True’, ‘False’, and ‘None’ start in lowercase letters.\n",
        " - A few examples of Python keywords are: True, False, else, import, finally, is, and global\n",
        "\n",
        "4. Can keywords be used as variable names?\n",
        " - No, you cannot use keywords as variable names in Python. Keywords are reserved words that define the language's syntax and structure.\n",
        "\n",
        "5. What is mutability in Python?\n",
        " - In Python, mutability is the ability to change the value or state of an object after it has been created. Mutable objects can be modified in place, which means that the original object is changed without creating a new one.\n",
        " - Examples- List, Dictionaries, Set.\n",
        "\n",
        "6. Why are lists mutable, but tuples are immutable?\n",
        " - The main difference between tuples and lists is that tuples are immutable, meaning their contents cannot be changed after creation, while lists are mutable and can be modified. Additionally, tuples are more memory-efficient compared to lists. Tuples can't be changed after they're created, but lists can be modified.\n",
        "\n",
        "7. What is the difference between “==” and “is” operators in Python?\n",
        " - In Python, the == operator compares the values of two objects, while the is operator checks if two variables point to the same object in memory.\n",
        "\n",
        "  Example\n",
        "\n",
        "     ==\n",
        " - The equality operator compares the values of two objects. It returns True if the values are equal, and False if they are not.\n",
        "\n",
        "  is\n",
        "\n",
        "  - The identity operator checks if two variables point to the same object in memory. It returns True if the variables point to the same object, and False if they do not.\n",
        "\n",
        "8.  What are logical operators in Python?\n",
        " - Logical operators in Python are keywords that evaluate conditions and return a Boolean value (True or False). They are used in conditional statements and expressions to make decisions and control the flow of a program.\n",
        "\n",
        " The three logical operators in Python\n",
        " - And: Returns True if both operands are true\n",
        " - Or: Returns True if either operand is true\n",
        " - Not: Reverses the result of an operand\n",
        "\n",
        "9. What is type casting in Python?\n",
        " - Type casting in Python is the process of changing a variable's data type from one type to another. It's also known as type conversion.\n",
        "\n",
        "  We use type casting:-\n",
        " - Type casting makes Python code more versatile.\n",
        " - It ensures compatibility between different data types.\n",
        " - It allows for flexible operations and data manipulation.\n",
        "\n",
        "10. What is the difference between implicit and explicit type casting?\n",
        " - Implicit type casting- Also known as type coercion, this is when a programming language automatically changes a value's data type. This often happens when a program is performing operations on values of different types.\n",
        " - Explicit type casting- Also known as type casting, this is when a programmer manually changes a value's data type. This is done using built-in functions or operators that the programming language provides.\n",
        "\n",
        "11. What is the purpose of conditional statements in Python?\n",
        " - Conditional statements in Python control the flow of a program by executing code based on certain conditions. They help make code more efficient and easier to read.\n",
        "\n",
        "  Examples of conditional statements\n",
        " - If: Executes a block of code if a condition is true\n",
        " - Else: Executes a different block of code if the if condition is false\n",
        " - Elif: Checks multiple conditions in sequence and executes different code blocks depending on which condition is true\n",
        "\n",
        "12. How does the elif statement work?\n",
        " - In Python, elif is short for \"else if\" and is used when the first if statement isn't true, but you want to check for another condition. Meaning, if statements pair up with elif and else statements to perform a series of checks.\n",
        "\n",
        "13. What is the difference between for and while loops?\n",
        " - In programming, a for loop is used to repeat a block of code a known number of times, while a while loop is used to repeat a block of code an unknown number of times.\n",
        "\n",
        " For loop\n",
        " - A for loop is a control flow statement that runs a section of code repeatedly until a condition is met. It typically consists of an initialization, a condition, and an iteration statement.\n",
        "\n",
        " While loop\n",
        " - A while loop is a control flow statement that executes a block of code repeatedly as long as a condition is true. It can be thought of as a repeating if statement.\n",
        "\n",
        "14. Describe a scenario where a while loop is more suitable than a for loop.\n",
        " - In contrast to a 'for' loop, which is generally used when the number of iterations is known beforehand, a 'while' loop is ideal for situations where the number of iterations is not predetermined and depends on some dynamic condition.\n",
        "\n",
        "\n"
      ],
      "metadata": {
        "id": "7dOvzdQpj4Se"
      }
    },
    {
      "cell_type": "markdown",
      "source": [
        "**PRACTICALS QUESTIONS**"
      ],
      "metadata": {
        "id": "_7VBEKgStyd1"
      }
    },
    {
      "cell_type": "code",
      "source": [
        "#1. Write a Python program to print \"Hello, World!\"\n",
        "print(\"Hello, World!\")"
      ],
      "metadata": {
        "colab": {
          "base_uri": "https://localhost:8080/"
        },
        "id": "LnYuqHuwt33Z",
        "outputId": "b5699b74-d6c5-401e-df39-5d8563357419"
      },
      "execution_count": null,
      "outputs": [
        {
          "output_type": "stream",
          "name": "stdout",
          "text": [
            "Hello, World!\n"
          ]
        }
      ]
    },
    {
      "cell_type": "code",
      "source": [
        "#2. Write a Python program that displays your name and age.\n",
        "student={\"Name\":\"Ankit Bhatt\",\"age\":28}\n",
        "print(student[\"Name\"])\n",
        "print(student[\"age\"])"
      ],
      "metadata": {
        "colab": {
          "base_uri": "https://localhost:8080/"
        },
        "id": "3_V21KYEusGH",
        "outputId": "561f8b3b-c4e3-4b4a-c05b-32d8fd9c8e70"
      },
      "execution_count": 9,
      "outputs": [
        {
          "output_type": "stream",
          "name": "stdout",
          "text": [
            "Ankit Bhatt\n",
            "28\n"
          ]
        }
      ]
    },
    {
      "cell_type": "code",
      "source": [
        "#3. Write code to print all the pre-defined keywords in Python using the keyword library.\n",
        "help(\"keywords\")"
      ],
      "metadata": {
        "colab": {
          "base_uri": "https://localhost:8080/"
        },
        "id": "E5uTfvrZwJuu",
        "outputId": "cdbf940d-a00a-4633-a958-1bd1951af983"
      },
      "execution_count": null,
      "outputs": [
        {
          "output_type": "stream",
          "name": "stdout",
          "text": [
            "\n",
            "Here is a list of the Python keywords.  Enter any keyword to get more help.\n",
            "\n",
            "False               class               from                or\n",
            "None                continue            global              pass\n",
            "True                def                 if                  raise\n",
            "and                 del                 import              return\n",
            "as                  elif                in                  try\n",
            "assert              else                is                  while\n",
            "async               except              lambda              with\n",
            "await               finally             nonlocal            yield\n",
            "break               for                 not                 \n",
            "\n"
          ]
        }
      ]
    },
    {
      "cell_type": "code",
      "source": [
        "#4. Write a program that checks if a given word is a Python keyword?\n",
        "import keyword\n",
        "\n",
        "def is_python_keyword(word):\n",
        "    return keyword.iskeyword(word)\n",
        "\n",
        "# Input from user\n",
        "word = input(\"Enter a word to check if it's a Python keyword: \")\n",
        "\n",
        "# Check and output result\n",
        "if is_python_keyword(word):\n",
        "    print(f\"'{word}' is a Python keyword.\")\n",
        "else:\n",
        "    print(f\"'{word}' is not a Python keyword.\")"
      ],
      "metadata": {
        "colab": {
          "base_uri": "https://localhost:8080/"
        },
        "id": "8mMMHmoCTcxo",
        "outputId": "d497d3d4-fc8d-4cb7-a582-27090ea0c6e3"
      },
      "execution_count": 6,
      "outputs": [
        {
          "output_type": "stream",
          "name": "stdout",
          "text": [
            "Enter a word to check if it's a Python keyword: for\n",
            "'for' is a Python keyword.\n"
          ]
        }
      ]
    },
    {
      "cell_type": "code",
      "source": [
        "#5. Create a list and tuple in Python, and demonstrate how attempting to change an element works differently for each?\n",
        "# Creating a List\n",
        "my_list = [1, 2, 3, 4, 5]\n",
        "\n",
        "# Creating a Tuple\n",
        "my_tuple = (1, 2, 3, 4, 5)\n",
        "\n",
        "# Changing an element in the list\n",
        "my_list[2] = 10\n",
        "print(\"Modified List:\", my_list)\n",
        "\n",
        "#But in tuple you cannot modify elements in a tuple it will through an error for example-\n",
        "# Trying to change an element in the tuple\n",
        "try:\n",
        "    my_tuple[2] = 10\n",
        "except TypeError as e:\n",
        "    print(\"Error:\", e)"
      ],
      "metadata": {
        "colab": {
          "base_uri": "https://localhost:8080/"
        },
        "id": "bZvy3N7jquxW",
        "outputId": "b167a683-3441-49a5-f97b-3cf1b48f5147"
      },
      "execution_count": 3,
      "outputs": [
        {
          "output_type": "stream",
          "name": "stdout",
          "text": [
            "Modified List: [1, 2, 10, 4, 5]\n",
            "Error: 'tuple' object does not support item assignment\n"
          ]
        }
      ]
    },
    {
      "cell_type": "code",
      "source": [
        "#6. Write a function to demonstrate the behavior of mutable and immutable arguments?\n",
        "#Ans-To demonstrate the behavior of mutable and immutable arguments in Python, I'll write a function that takes a mutable argument (like a list)\n",
        "# and an immutable argument (like an integer), and shows how changes to these arguments inside the function affect the original values.\n",
        "\n",
        "#Here's an example function to demonstrate this:\n",
        "def demonstrate_mutable_immutable(mutable_arg, immutable_arg):\n",
        "    print(\"Before modification:\")\n",
        "    print(f\"mutable_arg: {mutable_arg}, immutable_arg: {immutable_arg}\")\n",
        "\n",
        "    # Modify the mutable argument (list)\n",
        "    mutable_arg.append(4)\n",
        "\n",
        "    # Try to modify the immutable argument (integer)\n",
        "    immutable_arg += 10\n",
        "\n",
        "    print(\"After modification:\")\n",
        "    print(f\"mutable_arg: {mutable_arg}, immutable_arg: {immutable_arg}\")\n",
        "\n",
        "# Example usage\n",
        "my_list = [1, 2, 3]\n",
        "my_int = 5\n",
        "\n",
        "demonstrate_mutable_immutable(my_list, my_int)\n",
        "\n",
        "print(\"Outside function:\")\n",
        "print(f\"my_list: {my_list}, my_int: {my_int}\")\n",
        "# Explanation:\n",
        "# Mutable argument: The mutable_arg is a list. Lists are mutable, meaning changes to the list inside the function will affect the original list outside the function.\n",
        "# In this case, we append an element to the list.\n",
        "\n",
        "#Immutable argument: The immutable_arg is an integer. Integers are immutable in Python, meaning any modification to it inside the function won't affect\n",
        "# the original integer outside the function. The += operation creates a new integer inside the function scope and does not modify the original integer outside."
      ],
      "metadata": {
        "colab": {
          "base_uri": "https://localhost:8080/"
        },
        "id": "gwVWw0PEuLCS",
        "outputId": "cc3bb719-143f-4a52-873a-b431f50e8a7c"
      },
      "execution_count": 5,
      "outputs": [
        {
          "output_type": "stream",
          "name": "stdout",
          "text": [
            "Before modification:\n",
            "mutable_arg: [1, 2, 3], immutable_arg: 5\n",
            "After modification:\n",
            "mutable_arg: [1, 2, 3, 4], immutable_arg: 15\n",
            "Outside function:\n",
            "my_list: [1, 2, 3, 4], my_int: 5\n"
          ]
        }
      ]
    },
    {
      "cell_type": "code",
      "source": [
        "#7. Write a function to demonstrate the behavior of mutable and immutable arguments?\n",
        "#Ans-To demonstrate the behavior of mutable and immutable arguments in Python, I'll write a function that takes a mutable argument (like a list)\n",
        "# and an immutable argument (like an integer), and shows how changes to these arguments inside the function affect the original values.\n",
        "\n",
        "#Here's an example function to demonstrate this:\n",
        "def demonstrate_mutable_immutable(mutable_arg, immutable_arg):\n",
        "    print(\"Before modification:\")\n",
        "    print(f\"mutable_arg: {mutable_arg}, immutable_arg: {immutable_arg}\")\n",
        "\n",
        "    # Modify the mutable argument (list)\n",
        "    mutable_arg.append(4)\n",
        "\n",
        "    # Try to modify the immutable argument (integer)\n",
        "    immutable_arg += 10\n",
        "\n",
        "    print(\"After modification:\")\n",
        "    print(f\"mutable_arg: {mutable_arg}, immutable_arg: {immutable_arg}\")\n",
        "\n",
        "# Example usage\n",
        "my_list = [1, 2, 3]\n",
        "my_int = 5\n",
        "\n",
        "demonstrate_mutable_immutable(my_list, my_int)\n",
        "\n",
        "print(\"Outside function:\")\n",
        "print(f\"my_list: {my_list}, my_int: {my_int}\")\n",
        "# Explanation:\n",
        "# Mutable argument: The mutable_arg is a list. Lists are mutable, meaning changes to the list inside the function will affect the original list outside the function.\n",
        "# In this case, we append an element to the list.\n",
        "\n",
        "#Immutable argument: The immutable_arg is an integer. Integers are immutable in Python, meaning any modification to it inside the function won't affect\n",
        "# the original integer outside the function. The += operation creates a new integer inside the function scope and does not modify the original integer outside."
      ],
      "metadata": {
        "colab": {
          "base_uri": "https://localhost:8080/"
        },
        "id": "HVsz_SaNvm5G",
        "outputId": "e08d4c3a-4763-4099-9854-2e4a80a359a5"
      },
      "execution_count": 1,
      "outputs": [
        {
          "output_type": "stream",
          "name": "stdout",
          "text": [
            "Before modification:\n",
            "mutable_arg: [1, 2, 3], immutable_arg: 5\n",
            "After modification:\n",
            "mutable_arg: [1, 2, 3, 4], immutable_arg: 15\n",
            "Outside function:\n",
            "my_list: [1, 2, 3, 4], my_int: 5\n"
          ]
        }
      ]
    },
    {
      "cell_type": "code",
      "source": [
        "#8. Write a program to demonstrate the use of logical operators?\n",
        "a = True\n",
        "b = False\n",
        "\n",
        "# Using the 'and' logical operator\n",
        "if a and b:\n",
        "    print(\"Both a and b are True.\")\n",
        "else:\n",
        "    print(\"Either a or b is False.\")\n",
        "\n",
        "# Using the 'or' logical operator\n",
        "if a or b:\n",
        "    print(\"At least one of a or b is True.\")\n",
        "else:\n",
        "    print(\"Both a and b are False.\")\n",
        "\n",
        "# Using the 'not' logical operator\n",
        "if not b:\n",
        "    print(\"b is False, so 'not b' is True.\")\n",
        "else:\n",
        "    print(\"b is True, so 'not b' is False.\")\n",
        "\n",
        "# Combining logical operators\n",
        "if a and (b or not a):\n",
        "    print(\"This is an example of combining 'and' and 'or'.\")\n",
        "else:\n",
        "    print(\"This condition is False.\")"
      ],
      "metadata": {
        "colab": {
          "base_uri": "https://localhost:8080/"
        },
        "id": "juqfAZAqVS4O",
        "outputId": "12822428-1f84-450d-c034-10e42b486415"
      },
      "execution_count": 2,
      "outputs": [
        {
          "output_type": "stream",
          "name": "stdout",
          "text": [
            "Either a or b is False.\n",
            "At least one of a or b is True.\n",
            "b is False, so 'not b' is True.\n",
            "This condition is False.\n"
          ]
        }
      ]
    },
    {
      "cell_type": "code",
      "source": [
        "#9. Write a Python program to convert user input from string to integer, float, and boolean types?\n",
        "# Get user input as a string\n",
        "user_input = input(\"Enter a value: \")\n",
        "\n",
        "# Convert to integer\n",
        "try:\n",
        "    integer_value = int(user_input)\n",
        "    print(f\"Converted to integer: {integer_value}\")\n",
        "except ValueError:\n",
        "    print(\"Cannot convert to integer.\")\n",
        "\n",
        "# Convert to float\n",
        "try:\n",
        "    float_value = float(user_input)\n",
        "    print(f\"Converted to float: {float_value}\")\n",
        "except ValueError:\n",
        "    print(\"Cannot convert to float.\")\n",
        "\n",
        "# Convert to boolean\n",
        "# If the input is an empty string, it's considered False.\n",
        "# If the input is any non-empty string, it's considered True.\n",
        "boolean_value = bool(user_input)\n",
        "print(f\"Converted to boolean: {boolean_value}\")"
      ],
      "metadata": {
        "colab": {
          "base_uri": "https://localhost:8080/"
        },
        "id": "uF0cg90gV6eL",
        "outputId": "09bfb768-8416-4ecb-ac4b-9dc20ec404ad"
      },
      "execution_count": 3,
      "outputs": [
        {
          "output_type": "stream",
          "name": "stdout",
          "text": [
            "Enter a value: 2\n",
            "Converted to integer: 2\n",
            "Converted to float: 2.0\n",
            "Converted to boolean: True\n"
          ]
        }
      ]
    },
    {
      "cell_type": "code",
      "source": [
        "#10. Write a Python program to convert user input from string to integer, float, and boolean types?\n",
        "# Original list with mixed types\n",
        "mixed_list = ['1', '2.5', 3, 4.7, True]\n",
        "\n",
        "# Type casting elements in the list\n",
        "casted_list = []\n",
        "\n",
        "for item in mixed_list:\n",
        "    if isinstance(item, str):\n",
        "        # Convert string to int or float if possible\n",
        "        if item.isdigit():\n",
        "            casted_list.append(int(item))\n",
        "        else:\n",
        "            try:\n",
        "                casted_list.append(float(item))\n",
        "            except ValueError:\n",
        "                casted_list.append(item)  # Keep the string if it can't be converted\n",
        "    elif isinstance(item, bool):\n",
        "        # Convert bool to int (True -> 1, False -> 0)\n",
        "        casted_list.append(int(item))\n",
        "    else:\n",
        "        casted_list.append(item)\n",
        "\n",
        "# Show the original and casted lists\n",
        "print(\"Original list:\", mixed_list)\n",
        "print(\"Casted list:\", casted_list)"
      ],
      "metadata": {
        "colab": {
          "base_uri": "https://localhost:8080/"
        },
        "id": "tK6Z1HGnWIUi",
        "outputId": "854547ca-c235-4e33-ece7-97424aa9db5e"
      },
      "execution_count": 4,
      "outputs": [
        {
          "output_type": "stream",
          "name": "stdout",
          "text": [
            "Original list: ['1', '2.5', 3, 4.7, True]\n",
            "Casted list: [1, 2.5, 3, 4.7, 1]\n"
          ]
        }
      ]
    },
    {
      "cell_type": "code",
      "source": [
        "#11.  Write a program that checks if a number is positive, negative, or zero?\n",
        "# Take input from the user\n",
        "num = float(input(\"Enter a number: \"))\n",
        "\n",
        "# Check if the number is positive, negative, or zero\n",
        "if num > 0:\n",
        "    print(\"The number is positive.\")\n",
        "elif num < 0:\n",
        "    print(\"The number is negative.\")\n",
        "else:\n",
        "    print(\"The number is zero.\")"
      ],
      "metadata": {
        "colab": {
          "base_uri": "https://localhost:8080/"
        },
        "id": "cDuyayDqXv-I",
        "outputId": "d27e23d5-a233-4468-d68f-494450d22ead"
      },
      "execution_count": 5,
      "outputs": [
        {
          "output_type": "stream",
          "name": "stdout",
          "text": [
            "Enter a number: 33\n",
            "The number is positive.\n"
          ]
        }
      ]
    },
    {
      "cell_type": "code",
      "source": [
        "#12. Write a for loop to print numbers from 1 to 100?\n",
        "for i in range(1, 101):\n",
        "    print(i)"
      ],
      "metadata": {
        "colab": {
          "base_uri": "https://localhost:8080/"
        },
        "id": "W-Yz5tYlX9xS",
        "outputId": "91925b20-940b-4fbb-f0cf-5daf3db0d9ce"
      },
      "execution_count": 6,
      "outputs": [
        {
          "output_type": "stream",
          "name": "stdout",
          "text": [
            "1\n",
            "2\n",
            "3\n",
            "4\n",
            "5\n",
            "6\n",
            "7\n",
            "8\n",
            "9\n",
            "10\n",
            "11\n",
            "12\n",
            "13\n",
            "14\n",
            "15\n",
            "16\n",
            "17\n",
            "18\n",
            "19\n",
            "20\n",
            "21\n",
            "22\n",
            "23\n",
            "24\n",
            "25\n",
            "26\n",
            "27\n",
            "28\n",
            "29\n",
            "30\n",
            "31\n",
            "32\n",
            "33\n",
            "34\n",
            "35\n",
            "36\n",
            "37\n",
            "38\n",
            "39\n",
            "40\n",
            "41\n",
            "42\n",
            "43\n",
            "44\n",
            "45\n",
            "46\n",
            "47\n",
            "48\n",
            "49\n",
            "50\n",
            "51\n",
            "52\n",
            "53\n",
            "54\n",
            "55\n",
            "56\n",
            "57\n",
            "58\n",
            "59\n",
            "60\n",
            "61\n",
            "62\n",
            "63\n",
            "64\n",
            "65\n",
            "66\n",
            "67\n",
            "68\n",
            "69\n",
            "70\n",
            "71\n",
            "72\n",
            "73\n",
            "74\n",
            "75\n",
            "76\n",
            "77\n",
            "78\n",
            "79\n",
            "80\n",
            "81\n",
            "82\n",
            "83\n",
            "84\n",
            "85\n",
            "86\n",
            "87\n",
            "88\n",
            "89\n",
            "90\n",
            "91\n",
            "92\n",
            "93\n",
            "94\n",
            "95\n",
            "96\n",
            "97\n",
            "98\n",
            "99\n",
            "100\n"
          ]
        }
      ]
    },
    {
      "cell_type": "code",
      "source": [
        "#13. Write a Python program to find the sum of all even numbers between 1 and 500?\n",
        "# Initialize the sum variable\n",
        "sum_even_numbers = 0\n",
        "\n",
        "# Loop through numbers from 1 to 500\n",
        "for num in range(2, 501, 2):  # Start at 2 and increment by 2 (even numbers)\n",
        "    sum_even_numbers += num\n",
        "\n",
        "# Output the result\n",
        "print(\"The sum of all even numbers between 1 and 500 is:\", sum_even_numbers)"
      ],
      "metadata": {
        "colab": {
          "base_uri": "https://localhost:8080/"
        },
        "id": "LQyTWQA5YLW5",
        "outputId": "10c8052e-50b2-4a9d-9ac9-73bc660d0c9c"
      },
      "execution_count": 8,
      "outputs": [
        {
          "output_type": "stream",
          "name": "stdout",
          "text": [
            "The sum of all even numbers between 1 and 500 is: 62750\n"
          ]
        }
      ]
    },
    {
      "cell_type": "code",
      "source": [
        "#14. Write a program to reverse a string using a while loop?\n",
        "# Function to reverse a string using a while loop\n",
        "def reverse_string(input_string):\n",
        "    reversed_string = \"\"\n",
        "    index = len(input_string) - 1  # Start from the last character\n",
        "\n",
        "    # Use a while loop to append characters in reverse order\n",
        "    while index >= 0:\n",
        "        reversed_string += input_string[index]\n",
        "        index -= 1\n",
        "\n",
        "    return reversed_string\n",
        "\n",
        "# Example usage\n",
        "input_string = \"Hello, World!\"\n",
        "reversed_str = reverse_string(input_string)\n",
        "print(\"Reversed String:\", reversed_str)"
      ],
      "metadata": {
        "colab": {
          "base_uri": "https://localhost:8080/"
        },
        "id": "kFWswNjLYhUF",
        "outputId": "1ea8feb9-57eb-423d-a7c5-5aa3bbd20d85"
      },
      "execution_count": 9,
      "outputs": [
        {
          "output_type": "stream",
          "name": "stdout",
          "text": [
            "Reversed String: !dlroW ,olleH\n"
          ]
        }
      ]
    },
    {
      "cell_type": "code",
      "source": [
        "#15. Write a Python program to calculate the factorial of a number provided by the user using a while loop.\n",
        "# Get input from the user\n",
        "num = int(input(\"Enter a number: \"))\n",
        "\n",
        "# Initialize factorial to 1\n",
        "factorial = 1\n",
        "\n",
        "# Check if the number is negative\n",
        "if num < 0:\n",
        "    print(\"Factorial does not exist for negative numbers.\")\n",
        "else:\n",
        "    # Calculate factorial using while loop\n",
        "    while num > 0:\n",
        "        factorial *= num\n",
        "        num -= 1\n",
        "\n",
        "    # Output the result\n",
        "    print(f\"The factorial is: {factorial}\")"
      ],
      "metadata": {
        "colab": {
          "base_uri": "https://localhost:8080/"
        },
        "id": "WpNAuyepYo1o",
        "outputId": "463049b5-c90d-4ace-c12d-fc8c3f1c350b"
      },
      "execution_count": 10,
      "outputs": [
        {
          "output_type": "stream",
          "name": "stdout",
          "text": [
            "Enter a number: 34\n",
            "The factorial is: 295232799039604140847618609643520000000\n"
          ]
        }
      ]
    }
  ]
}